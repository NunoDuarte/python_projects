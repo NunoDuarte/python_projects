{
 "cells": [
  {
   "cell_type": "code",
   "execution_count": 23,
   "id": "2c7c21cc",
   "metadata": {},
   "outputs": [],
   "source": [
    "import torch\n",
    "from torch import nn\n",
    "from torch import optim\n",
    "import pandas as pd\n",
    "import numpy as np"
   ]
  },
  {
   "cell_type": "code",
   "execution_count": 25,
   "id": "a5536abf",
   "metadata": {},
   "outputs": [
    {
     "name": "stdout",
     "output_type": "stream",
     "text": [
      "       label  pixel0  pixel1  pixel2  pixel3  pixel4  pixel5  pixel6  pixel7  \\\n",
      "41995      0       0       0       0       0       0       0       0       0   \n",
      "41996      1       0       0       0       0       0       0       0       0   \n",
      "41997      7       0       0       0       0       0       0       0       0   \n",
      "41998      6       0       0       0       0       0       0       0       0   \n",
      "41999      9       0       0       0       0       0       0       0       0   \n",
      "\n",
      "       pixel8  ...  pixel774  pixel775  pixel776  pixel777  pixel778  \\\n",
      "41995       0  ...         0         0         0         0         0   \n",
      "41996       0  ...         0         0         0         0         0   \n",
      "41997       0  ...         0         0         0         0         0   \n",
      "41998       0  ...         0         0         0         0         0   \n",
      "41999       0  ...         0         0         0         0         0   \n",
      "\n",
      "       pixel779  pixel780  pixel781  pixel782  pixel783  \n",
      "41995         0         0         0         0         0  \n",
      "41996         0         0         0         0         0  \n",
      "41997         0         0         0         0         0  \n",
      "41998         0         0         0         0         0  \n",
      "41999         0         0         0         0         0  \n",
      "\n",
      "[5 rows x 785 columns]\n"
     ]
    }
   ],
   "source": [
    "# load the data\n",
    "df = pd.read_csv('train.csv')\n",
    "\n",
    "print(df.tail()) "
   ]
  },
  {
   "cell_type": "code",
   "execution_count": 8,
   "id": "cac64631",
   "metadata": {},
   "outputs": [],
   "source": [
    "# prepare network\n",
    "model = nn.Sequential(\n",
    "    nn.Linear(28*28, 64),\n",
    "    nn.ReLU(),\n",
    "    nn.Linear(64, 64),\n",
    "    nn.ReLU(),\n",
    "    nn.Linear(64, 10)\n",
    ")"
   ]
  },
  {
   "cell_type": "code",
   "execution_count": 10,
   "id": "6f2edd52",
   "metadata": {},
   "outputs": [],
   "source": [
    "# Define my optimizer\n",
    "optimizer = optim.SGD(model.parameters(), lr=1e-2)"
   ]
  },
  {
   "cell_type": "code",
   "execution_count": null,
   "id": "c681ab3c",
   "metadata": {},
   "outputs": [],
   "source": [
    "# Define loss\n",
    "loss = nn.CrossEntropyLoss()"
   ]
  },
  {
   "cell_type": "code",
   "execution_count": null,
   "id": "a515b249",
   "metadata": {},
   "outputs": [],
   "source": [
    "# My Training loops\n",
    "nb_epochs = 5\n",
    "for epoch in range(nb_epochs):\n",
    "    for batch in train_loader:\n",
    "        x, y = batch\n",
    "        \n",
    "        # x"
   ]
  }
 ],
 "metadata": {
  "kernelspec": {
   "display_name": "Python 3 (ipykernel)",
   "language": "python",
   "name": "python3"
  },
  "language_info": {
   "codemirror_mode": {
    "name": "ipython",
    "version": 3
   },
   "file_extension": ".py",
   "mimetype": "text/x-python",
   "name": "python",
   "nbconvert_exporter": "python",
   "pygments_lexer": "ipython3",
   "version": "3.8.10"
  }
 },
 "nbformat": 4,
 "nbformat_minor": 5
}
